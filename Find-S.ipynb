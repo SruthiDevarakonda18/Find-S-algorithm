{
  "nbformat": 4,
  "nbformat_minor": 0,
  "metadata": {
    "colab": {
      "name": "Untitled8.ipynb",
      "provenance": [],
      "authorship_tag": "ABX9TyMkkvUy8iw7JgUIADQAaAnp",
      "include_colab_link": true
    },
    "kernelspec": {
      "name": "python3",
      "display_name": "Python 3"
    },
    "language_info": {
      "name": "python"
    }
  },
  "cells": [
    {
      "cell_type": "markdown",
      "metadata": {
        "id": "view-in-github",
        "colab_type": "text"
      },
      "source": [
        "<a href=\"https://colab.research.google.com/github/SruthiDevarakonda18/Find-S-algorithm/blob/main/Find-S.ipynb\" target=\"_parent\"><img src=\"https://colab.research.google.com/assets/colab-badge.svg\" alt=\"Open In Colab\"/></a>"
      ]
    },
    {
      "cell_type": "code",
      "metadata": {
        "colab": {
          "base_uri": "https://localhost:8080/"
        },
        "id": "TdKwpENWvN9X",
        "outputId": "ea8572a5-09f2-4c1c-96b7-e7143e4d157d"
      },
      "source": [
        "import random\n",
        "import csv\n",
        "\n",
        "\n",
        "attributes = [['Sunny','Rainy'],\n",
        "              ['Warm','Cold'],\n",
        "              ['Normal','High'],\n",
        "              ['Strong','Weak'],\n",
        "              ['Warm','Cool'],\n",
        "              ['Same','Change']]\n",
        "\n",
        "\n",
        "num_attributes = len(attributes)\n",
        "\n",
        "\n",
        "print (\" \\n The most general hypothesis : ['?','?','?','?','?','?']\\n\")\n",
        "print (\"\\n The most specific hypothesis : ['0','0','0','0','0','0']\\n\")\n",
        "\n",
        "a = []\n",
        "print(\"\\n The Given Training Data Set \\n\")\n",
        "\n",
        "with open('/content/enjoysport.csv') as csvFile:\n",
        "    reader = csv.reader(csvFile)\n",
        "    for row in reader:\n",
        "        a.append (row)\n",
        "        print(row)\n",
        "\n",
        "\n",
        "print(\"\\n The initial value of hypothesis: \")\n",
        "hypothesis = ['0'] * num_attributes\n",
        "print(hypothesis)\n",
        "\n",
        "# Comparing with First Training Example \n",
        "for j in range(0,num_attributes):\n",
        "        hypothesis[j] = a[0][j];\n",
        "\n",
        "# Comparing with Remaining Training Examples of Given Data Set\n",
        "\n",
        "print(\"\\n Find S: Finding a Maximally Specific Hypothesis\\n\")\n",
        "\n",
        "for i in range(0,len(a)):\n",
        "    if a[i][num_attributes]=='Yes':\n",
        "            for j in range(0,num_attributes):\n",
        "                if a[i][j]!=hypothesis[j]:\n",
        "                    hypothesis[j]='?'\n",
        "                else :\n",
        "                    hypothesis[j]= a[i][j] \n",
        "    print(\" For Training Example No :{0} the hypothesis is \".format(i),hypothesis)\n",
        "                \n",
        "print(\"\\n The Maximally Specific Hypothesis for a given Training Examples :\\n\")\n",
        "print(hypothesis)"
      ],
      "execution_count": null,
      "outputs": [
        {
          "output_type": "stream",
          "name": "stdout",
          "text": [
            " \n",
            " The most general hypothesis : ['?','?','?','?','?','?']\n",
            "\n",
            "\n",
            " The most specific hypothesis : ['0','0','0','0','0','0']\n",
            "\n",
            "\n",
            " The Given Training Data Set \n",
            "\n",
            "[\"'sunny'\", \" 'warm'\", \" 'normal'\", \" 'strong'\", \" 'warm'\", \" 'same'\", \" 'Yes'\"]\n",
            "[\"'sunny'\", \" 'warm'\", \" 'high'\", \" 'strong'\", \" 'warm'\", \" 'same'\", \" 'Yes'\"]\n",
            "[\"'rainy'\", \" 'cold'\", \" 'high'\", \" 'strong'\", \" 'warm'\", \" 'change'\", \" 'No'\"]\n",
            "[\"'sunny'\", \" 'warm'\", \" 'high'\", \" 'strong'\", \" 'cool'\", \" 'change'\", \" 'Yes'\"]\n",
            "\n",
            " The initial value of hypothesis: \n",
            "['0', '0', '0', '0', '0', '0']\n",
            "\n",
            " Find S: Finding a Maximally Specific Hypothesis\n",
            "\n",
            " For Training Example No :0 the hypothesis is  [\"'sunny'\", \" 'warm'\", \" 'normal'\", \" 'strong'\", \" 'warm'\", \" 'same'\"]\n",
            " For Training Example No :1 the hypothesis is  [\"'sunny'\", \" 'warm'\", \" 'normal'\", \" 'strong'\", \" 'warm'\", \" 'same'\"]\n",
            " For Training Example No :2 the hypothesis is  [\"'sunny'\", \" 'warm'\", \" 'normal'\", \" 'strong'\", \" 'warm'\", \" 'same'\"]\n",
            " For Training Example No :3 the hypothesis is  [\"'sunny'\", \" 'warm'\", \" 'normal'\", \" 'strong'\", \" 'warm'\", \" 'same'\"]\n",
            "\n",
            " The Maximally Specific Hypothesis for a given Training Examples :\n",
            "\n",
            "[\"'sunny'\", \" 'warm'\", \" 'normal'\", \" 'strong'\", \" 'warm'\", \" 'same'\"]\n"
          ]
        }
      ]
    }
  ]
}